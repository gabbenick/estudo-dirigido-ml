{
 "cells": [
  {
   "cell_type": "code",
   "execution_count": 1,
   "metadata": {},
   "outputs": [],
   "source": [
    "# Balanceamento referente ao complementary filter\n",
    "\n",
    "import pandas as pd\n",
    "\n",
    "df = pd.read_csv('./csv/database_complementary_filter.csv')\n",
    "\n",
    "data = []\n",
    "\n",
    "classes = df['activity'].unique()\n",
    "\n",
    "# Número mínimo de leituras\n",
    "min_value = 10000\n",
    "\n",
    "def events_until_min_value(dataframe, target_class, min_value):\n",
    "    events = []\n",
    "    event = []\n",
    "    total_count = 0\n",
    "    for i in range(len(dataframe)):\n",
    "        if dataframe.loc[i, 'activity'] == target_class:\n",
    "            event.append(dataframe.loc[i])\n",
    "            total_count += 1\n",
    "        elif event:\n",
    "            events.append(event)\n",
    "            event = []\n",
    "            if total_count >= min_value:\n",
    "                break\n",
    "    if event and total_count < min_value:\n",
    "        events.append(event)\n",
    "    \n",
    "    flattened_events = [item for sublist in events for item in sublist]\n",
    "    events_df = pd.DataFrame(flattened_events)\n",
    "    return events_df\n",
    "\n",
    "# Iteração entre todas as classes até cumprir os requisitos\n",
    "for cls in classes:\n",
    "    cls_events = events_until_min_value(df, cls, min_value)\n",
    "    data.append(cls_events)\n",
    "\n",
    "balanced_df = pd.concat(data)\n",
    "\n",
    "balanced_df = balanced_df.sort_index().reset_index(drop=True)\n",
    "\n",
    "balanced_df.to_csv('./csv/database_balanced_cf.csv', index=False)\n"
   ]
  },
  {
   "cell_type": "code",
   "execution_count": 4,
   "metadata": {},
   "outputs": [
    {
     "name": "stdout",
     "output_type": "stream",
     "text": [
      "activity\n",
      "running             13020\n",
      "sitting             10266\n",
      "down_by_elevator    10265\n",
      "up_by_elevator      10205\n",
      "going_up            10199\n",
      "going_down          10134\n",
      "walking             10044\n",
      "standing            10019\n",
      "standing_up          5695\n",
      "sitting_down         5253\n",
      "Name: count, dtype: int64\n"
     ]
    }
   ],
   "source": [
    "print(balanced_df['activity'].value_counts())"
   ]
  },
  {
   "cell_type": "code",
   "execution_count": 1,
   "metadata": {},
   "outputs": [],
   "source": [
    "# Balanceamento referente ao arima\n",
    "\n",
    "import pandas as pd\n",
    "\n",
    "df = pd.read_csv('./csv/database_arima.csv')\n",
    "\n",
    "data = []\n",
    "\n",
    "classes = df['activity'].unique()\n",
    "\n",
    "# Número mínimo de leituras\n",
    "min_value = 10000\n",
    "\n",
    "def events_until_min_value(dataframe, target_class, min_value):\n",
    "    events = []\n",
    "    event = []\n",
    "    total_count = 0\n",
    "    for i in range(len(dataframe)):\n",
    "        if dataframe.loc[i, 'activity'] == target_class:\n",
    "            event.append(dataframe.loc[i])\n",
    "            total_count += 1\n",
    "        elif event:\n",
    "            events.append(event)\n",
    "            event = []\n",
    "            if total_count >= min_value:\n",
    "                break\n",
    "    if event and total_count < min_value:\n",
    "        events.append(event)\n",
    "    \n",
    "    flattened_events = [item for sublist in events for item in sublist]\n",
    "    events_df = pd.DataFrame(flattened_events)\n",
    "    return events_df\n",
    "\n",
    "# Iteração entre todas as classes até cumprir os requisitos\n",
    "for cls in classes:\n",
    "    cls_events = events_until_min_value(df, cls, min_value)\n",
    "    data.append(cls_events)\n",
    "\n",
    "balanced_df = pd.concat(data)\n",
    "\n",
    "balanced_df = balanced_df.sort_index().reset_index(drop=True)\n",
    "\n",
    "balanced_df.to_csv('./csv/database_balanced_arima.csv', index=False)"
   ]
  }
 ],
 "metadata": {
  "kernelspec": {
   "display_name": "Python 3",
   "language": "python",
   "name": "python3"
  },
  "language_info": {
   "codemirror_mode": {
    "name": "ipython",
    "version": 3
   },
   "file_extension": ".py",
   "mimetype": "text/x-python",
   "name": "python",
   "nbconvert_exporter": "python",
   "pygments_lexer": "ipython3",
   "version": "3.11.9"
  }
 },
 "nbformat": 4,
 "nbformat_minor": 2
}
