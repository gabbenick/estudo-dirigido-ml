{
 "cells": [
  {
   "cell_type": "code",
   "execution_count": 3,
   "metadata": {},
   "outputs": [],
   "source": [
    "import numpy as np\n",
    "import pandas as pd\n",
    "from statsmodels.tsa.arima.model import ARIMA\n",
    "\n",
    "def arima(df, order=(1, 1, 1)):\n",
    "    # grupo dos sensores\n",
    "    sensor_groups = {\n",
    "        'right_foot': ['accelerometer_right_foot_x', 'accelerometer_right_foot_y', 'accelerometer_right_foot_z', 'gyroscope_right_foot_x', 'gyroscope_right_foot_y', 'gyroscope_right_foot_z'],\n",
    "        'right_shin': ['accelerometer_right_shin_x', 'accelerometer_right_shin_y', 'accelerometer_right_shin_z', 'gyroscope_right_shin_x', 'gyroscope_right_shin_y', 'gyroscope_right_shin_z'],\n",
    "        'right_thigh': ['accelerometer_right_thigh_x', 'accelerometer_right_thigh_y', 'accelerometer_right_thigh_z', 'gyroscope_right_thigh_x', 'gyroscope_right_thigh_y', 'gyroscope_right_thigh_z'],\n",
    "        'left_foot': ['accelerometer_left_foot_x', 'accelerometer_left_foot_y', 'accelerometer_left_foot_z', 'gyroscope_left_foot_x', 'gyroscope_left_foot_y', 'gyroscope_left_foot_z'],\n",
    "        'left_shin': ['accelerometer_left_shin_x', 'accelerometer_left_shin_y', 'accelerometer_left_shin_z', 'gyroscope_left_shin_x', 'gyroscope_left_shin_y', 'gyroscope_left_shin_z'],\n",
    "        'left_thigh': ['accelerometer_left_thigh_x', 'accelerometer_left_thigh_y', 'accelerometer_left_thigh_z', 'gyroscope_left_thigh_x', 'gyroscope_left_thigh_y', 'gyroscope_left_thigh_z']\n",
    "    }\n",
    "    # guardar resultado do arima\n",
    "    arima_results = {sensor: [] for sensor in sensor_groups}\n",
    "\n",
    "    # iteração entre todo o df\n",
    "    for sensor, columns in sensor_groups.items():\n",
    "        for column in columns:\n",
    "\n",
    "            arima = ARIMA(df[column], order=order)\n",
    "            arima_fit = arima.fit()\n",
    "            predictions = arima_fit.predict(start=0, end=len(df)-1)\n",
    "            arima_results[sensor].append(predictions)\n",
    "\n",
    "    # criação do df pós arima\n",
    "    arima_dfs = []\n",
    "    for sensor, predictions in arima_results.items():\n",
    "        arima_df = pd.DataFrame(np.array(predictions).T, columns=[f'{col}' for col in columns]) # ta errado\n",
    "        arima_dfs.append(arima_df)\n",
    "    return pd.concat(arima_dfs, axis=1)\n",
    "\n",
    "df = pd.read_csv('./csv/database.csv')\n",
    "\n",
    "df_arima = arima(df, order=(1, 1, 1))\n",
    "\n",
    "df_arima['activity'] = df['activity'].values\n",
    "\n",
    "df_arima.to_csv('./csv/database_arima.csv', index=False)\n",
    "\n",
    "# foi aplicada lógica parecida com o código do complementary filter\n"
   ]
  }
 ],
 "metadata": {
  "kernelspec": {
   "display_name": "Python 3",
   "language": "python",
   "name": "python3"
  },
  "language_info": {
   "codemirror_mode": {
    "name": "ipython",
    "version": 3
   },
   "file_extension": ".py",
   "mimetype": "text/x-python",
   "name": "python",
   "nbconvert_exporter": "python",
   "pygments_lexer": "ipython3",
   "version": "3.11.9"
  }
 },
 "nbformat": 4,
 "nbformat_minor": 2
}
